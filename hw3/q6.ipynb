{
 "cells": [
  {
   "cell_type": "markdown",
   "metadata": {},
   "source": [
    "## Q6 Multiple Regression"
   ]
  },
  {
   "cell_type": "code",
   "execution_count": 1,
   "metadata": {},
   "outputs": [],
   "source": [
    "import numpy as np\n",
    "import matplotlib.pyplot as plt\n",
    "import stan\n",
    "import pandas as pd\n",
    "import arviz as az\n",
    "import seaborn as sns\n",
    "import nest_asyncio\n",
    "nest_asyncio.apply()"
   ]
  },
  {
   "cell_type": "markdown",
   "metadata": {},
   "source": [
    "Below is the same model used for Q5"
   ]
  },
  {
   "cell_type": "code",
   "execution_count": 2,
   "metadata": {},
   "outputs": [],
   "source": [
    "program_code = \"\"\"\n",
    "data {\n",
    "    int<lower=1> N; // training count\n",
    "    int<lower=1> K; // weight count\n",
    "    int<lower=1> T; // test count\n",
    "    vector[N] charges; // training output\n",
    "    matrix[N,K] params; // training input\n",
    "    matrix[K,K] covariance; // covaraiance for multi_norm\n",
    "    matrix[T,K] test_params; // testing input\n",
    "}\n",
    "\n",
    "parameters {\n",
    "    real<lower=0> sigma;\n",
    "    real alpha;\n",
    "    vector[K] beta;\n",
    "}\n",
    "\n",
    "model {\n",
    "    // Priors\n",
    "    sigma ~ inv_gamma(3.0, 1.0);\n",
    "    alpha ~ normal(0, 10.0);\n",
    "    beta ~ multi_normal([0.0, 0.0, 0.0], covariance);\n",
    "    \n",
    "    // Likelihood\n",
    "    for (n in 1:N) {\n",
    "        charges[n] ~ normal(alpha + (params[n] * beta), sigma);\n",
    "    }\n",
    "}\n",
    "\n",
    "generated quantities {\n",
    "    vector[T] pred_signal;\n",
    "    for (n in 1:T) {\n",
    "        pred_signal[n] = normal_rng(alpha + (test_params[n] * beta), sigma);\n",
    "    }\n",
    "}\n",
    "\n",
    "\"\"\""
   ]
  },
  {
   "cell_type": "markdown",
   "metadata": {},
   "source": [
    "Load data and normalize"
   ]
  },
  {
   "cell_type": "code",
   "execution_count": 3,
   "metadata": {},
   "outputs": [],
   "source": [
    "samples = pd.read_csv(\"insurance.csv\", delimiter=',')\n",
    "N = len(samples)\n",
    "K = 3\n",
    "\n",
    "parameters = samples[[\"age\", \"bmi\", \"children\"]]\n",
    "parameters = (parameters - parameters.mean()) / parameters.std()\n",
    "labels = samples[\"charges\"]\n",
    "labels = (labels - labels.mean()) / labels.std()\n",
    "\n",
    "cutoff = int(N*0.70)\n",
    "training_params, test_params = parameters.iloc[:cutoff], parameters.iloc[cutoff:]\n",
    "training_labels, test_labels = labels.iloc[:cutoff], labels.iloc[cutoff:]\n",
    "\n",
    "data = {\n",
    "    'N' : cutoff,\n",
    "    'K' : K,\n",
    "    'T' : len(labels) - cutoff,\n",
    "    'charges' : training_labels.to_list(),\n",
    "    'params' : training_params.to_numpy(),\n",
    "    'covariance' : np.eye(K) * 3.0,\n",
    "    'test_params' : test_params.to_numpy()\n",
    "}"
   ]
  },
  {
   "cell_type": "markdown",
   "metadata": {},
   "source": [
    "Compile model"
   ]
  },
  {
   "cell_type": "code",
   "execution_count": 4,
   "metadata": {},
   "outputs": [
    {
     "name": "stdout",
     "output_type": "stream",
     "text": [
      "Building...\n"
     ]
    },
    {
     "name": "stderr",
     "output_type": "stream",
     "text": [
      "\n",
      "Building: found in cache, done.Messages from stanc:\n",
      "Warning: The parameter beta has no priors. This means either no prior is\n",
      "    provided, or the prior(s) depend on data variables. In the later case,\n",
      "    this may be a false positive.\n"
     ]
    }
   ],
   "source": [
    "model = stan.build(program_code=program_code, data=data)"
   ]
  },
  {
   "cell_type": "markdown",
   "metadata": {},
   "source": [
    "Sample fitted distribution"
   ]
  },
  {
   "cell_type": "code",
   "execution_count": 5,
   "metadata": {},
   "outputs": [
    {
     "name": "stderr",
     "output_type": "stream",
     "text": [
      "Sampling:   0%\n",
      "Sampling:   2% (200/8000)\n",
      "Sampling:   6% (500/8000)\n",
      "Sampling:  10% (800/8000)\n",
      "Sampling:  14% (1100/8000)\n",
      "Sampling:  22% (1800/8000)\n",
      "Sampling:  44% (3500/8000)\n",
      "Sampling:  65% (5200/8000)\n",
      "Sampling:  86% (6900/8000)\n",
      "Sampling: 100% (8000/8000)\n",
      "Sampling: 100% (8000/8000), done.\n",
      "Messages received during sampling:\n",
      "  Gradient evaluation took 0.000372 seconds\n",
      "  1000 transitions using 10 leapfrog steps per transition would take 3.72 seconds.\n",
      "  Adjust your expectations accordingly!\n",
      "  Gradient evaluation took 0.000342 seconds\n",
      "  1000 transitions using 10 leapfrog steps per transition would take 3.42 seconds.\n",
      "  Adjust your expectations accordingly!\n",
      "  Gradient evaluation took 0.000272 seconds\n",
      "  1000 transitions using 10 leapfrog steps per transition would take 2.72 seconds.\n",
      "  Adjust your expectations accordingly!\n",
      "  Gradient evaluation took 0.000291 seconds\n",
      "  1000 transitions using 10 leapfrog steps per transition would take 2.91 seconds.\n",
      "  Adjust your expectations accordingly!\n",
      "  Informational Message: The current Metropolis proposal is about to be rejected because of the following issue:\n",
      "  Exception: normal_lpdf: Scale parameter is 0, but must be positive! (in '/tmp/httpstan_wg2ad9k9/model_vm3fepqj.stan', line 26, column 8 to column 63)\n",
      "  If this warning occurs sporadically, such as for highly constrained variable types like covariance matrices, then the sampler is fine,\n",
      "  but if this warning occurs often then your model may be either severely ill-conditioned or misspecified.\n",
      "  Informational Message: The current Metropolis proposal is about to be rejected because of the following issue:\n",
      "  Exception: normal_lpdf: Scale parameter is 0, but must be positive! (in '/tmp/httpstan_wg2ad9k9/model_vm3fepqj.stan', line 26, column 8 to column 63)\n",
      "  If this warning occurs sporadically, such as for highly constrained variable types like covariance matrices, then the sampler is fine,\n",
      "  but if this warning occurs often then your model may be either severely ill-conditioned or misspecified.\n"
     ]
    }
   ],
   "source": [
    "fit = model.sample(num_chains=4, num_warmup=1000, num_samples=1000)\n",
    "results = fit.to_frame()"
   ]
  },
  {
   "cell_type": "markdown",
   "metadata": {},
   "source": [
    "Quick summary to verify everything worked"
   ]
  },
  {
   "cell_type": "code",
   "execution_count": 6,
   "metadata": {},
   "outputs": [
    {
     "data": {
      "text/html": [
       "<div>\n",
       "<style scoped>\n",
       "    .dataframe tbody tr th:only-of-type {\n",
       "        vertical-align: middle;\n",
       "    }\n",
       "\n",
       "    .dataframe tbody tr th {\n",
       "        vertical-align: top;\n",
       "    }\n",
       "\n",
       "    .dataframe thead th {\n",
       "        text-align: right;\n",
       "    }\n",
       "</style>\n",
       "<table border=\"1\" class=\"dataframe\">\n",
       "  <thead>\n",
       "    <tr style=\"text-align: right;\">\n",
       "      <th></th>\n",
       "      <th>mean</th>\n",
       "      <th>sd</th>\n",
       "      <th>hdi_3%</th>\n",
       "      <th>hdi_97%</th>\n",
       "      <th>mcse_mean</th>\n",
       "      <th>mcse_sd</th>\n",
       "      <th>ess_bulk</th>\n",
       "      <th>ess_tail</th>\n",
       "      <th>r_hat</th>\n",
       "    </tr>\n",
       "  </thead>\n",
       "  <tbody>\n",
       "    <tr>\n",
       "      <th>alpha</th>\n",
       "      <td>-0.031</td>\n",
       "      <td>0.029</td>\n",
       "      <td>-0.088</td>\n",
       "      <td>0.021</td>\n",
       "      <td>0.0</td>\n",
       "      <td>0.0</td>\n",
       "      <td>4851.0</td>\n",
       "      <td>2968.0</td>\n",
       "      <td>1.0</td>\n",
       "    </tr>\n",
       "    <tr>\n",
       "      <th>sigma</th>\n",
       "      <td>0.928</td>\n",
       "      <td>0.022</td>\n",
       "      <td>0.887</td>\n",
       "      <td>0.968</td>\n",
       "      <td>0.0</td>\n",
       "      <td>0.0</td>\n",
       "      <td>4687.0</td>\n",
       "      <td>2672.0</td>\n",
       "      <td>1.0</td>\n",
       "    </tr>\n",
       "    <tr>\n",
       "      <th>beta[0]</th>\n",
       "      <td>0.301</td>\n",
       "      <td>0.030</td>\n",
       "      <td>0.245</td>\n",
       "      <td>0.357</td>\n",
       "      <td>0.0</td>\n",
       "      <td>0.0</td>\n",
       "      <td>4886.0</td>\n",
       "      <td>2981.0</td>\n",
       "      <td>1.0</td>\n",
       "    </tr>\n",
       "    <tr>\n",
       "      <th>beta[1]</th>\n",
       "      <td>0.159</td>\n",
       "      <td>0.032</td>\n",
       "      <td>0.100</td>\n",
       "      <td>0.218</td>\n",
       "      <td>0.0</td>\n",
       "      <td>0.0</td>\n",
       "      <td>4651.0</td>\n",
       "      <td>3123.0</td>\n",
       "      <td>1.0</td>\n",
       "    </tr>\n",
       "    <tr>\n",
       "      <th>beta[2]</th>\n",
       "      <td>0.035</td>\n",
       "      <td>0.030</td>\n",
       "      <td>-0.023</td>\n",
       "      <td>0.088</td>\n",
       "      <td>0.0</td>\n",
       "      <td>0.0</td>\n",
       "      <td>5379.0</td>\n",
       "      <td>3304.0</td>\n",
       "      <td>1.0</td>\n",
       "    </tr>\n",
       "  </tbody>\n",
       "</table>\n",
       "</div>"
      ],
      "text/plain": [
       "          mean     sd  hdi_3%  hdi_97%  mcse_mean  mcse_sd  ess_bulk  \\\n",
       "alpha   -0.031  0.029  -0.088    0.021        0.0      0.0    4851.0   \n",
       "sigma    0.928  0.022   0.887    0.968        0.0      0.0    4687.0   \n",
       "beta[0]  0.301  0.030   0.245    0.357        0.0      0.0    4886.0   \n",
       "beta[1]  0.159  0.032   0.100    0.218        0.0      0.0    4651.0   \n",
       "beta[2]  0.035  0.030  -0.023    0.088        0.0      0.0    5379.0   \n",
       "\n",
       "         ess_tail  r_hat  \n",
       "alpha      2968.0    1.0  \n",
       "sigma      2672.0    1.0  \n",
       "beta[0]    2981.0    1.0  \n",
       "beta[1]    3123.0    1.0  \n",
       "beta[2]    3304.0    1.0  "
      ]
     },
     "execution_count": 6,
     "metadata": {},
     "output_type": "execute_result"
    }
   ],
   "source": [
    "az.summary(fit, var_names=['alpha', 'sigma', 'beta'])"
   ]
  },
  {
   "cell_type": "markdown",
   "metadata": {},
   "source": [
    "Calculate RMSE and visualize distribution"
   ]
  },
  {
   "cell_type": "code",
   "execution_count": 10,
   "metadata": {},
   "outputs": [
    {
     "name": "stderr",
     "output_type": "stream",
     "text": [
      "/home/chase/miniconda3/envs/cog/lib/python3.11/site-packages/seaborn/_oldcore.py:1119: FutureWarning: use_inf_as_na option is deprecated and will be removed in a future version. Convert inf values to NaN before operating instead.\n",
      "  with pd.option_context('mode.use_inf_as_na', True):\n"
     ]
    },
    {
     "data": {
      "text/plain": [
       "[Text(0.5, 0, 'RMSE'), Text(0.5, 1.0, 'Predictive RMSE'), Text(0, 0.5, '')]"
      ]
     },
     "execution_count": 10,
     "metadata": {},
     "output_type": "execute_result"
    },
    {
     "data": {
      "image/png": "[encoded data removed]",
      "text/plain": [
       "<Figure size 600x400 with 1 Axes>"
      ]
     },
     "metadata": {},
     "output_type": "display_data"
    }
   ],
   "source": [
    "f, ax = plt.subplots(1,1,figsize=(6,4))\n",
    "sns.histplot(np.sqrt(np.mean((results.iloc[:, 12:] - test_labels.values) ** 2, axis=1)), ax=ax)\n",
    "ax.set(xlabel=\"RMSE\", title=\"Predictive RMSE\", ylabel=\"\")"
   ]
  },
  {
   "cell_type": "markdown",
   "metadata": {},
   "source": [
    "### Discussion\n",
    "How good are your predictions?  \n",
    "The predictions had an 'ok' result and can be improved with more complex models. For certain, we were able to identify the most important parameter within the subset (age, bmi, num children).  \n",
    "\n",
    "What information did you lose by computing the predictive means?  \n",
    "Using predictive means, we are losing out on tracking individual errors. Individual prediction-error pairing can assist in identifying specific areas where the model is failing\n",
    "\n",
    "How could you possibly propagate the uncertainty information encoded in the predictive distribution to obtain a distribution over the test RMSE values?  \n",
    "Currently, the entire data analysis is only completed once. If we were to resample and recalculate the RMSE for reallocated train and test sets, we can create a distribution of RMSEs. This this, we can observe uncertainty within the model "
   ]
  }
 ],
 "metadata": {
  "kernelspec": {
   "display_name": "cog",
   "language": "python",
   "name": "python3"
  },
  "language_info": {
   "codemirror_mode": {
    "name": "ipython",
    "version": 3
   },
   "file_extension": ".py",
   "mimetype": "text/x-python",
   "name": "python",
   "nbconvert_exporter": "python",
   "pygments_lexer": "ipython3",
   "version": "3.11.8"
  }
 },
 "nbformat": 4,
 "nbformat_minor": 2
}
