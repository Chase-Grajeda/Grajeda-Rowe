{
 "cells": [
  {
   "cell_type": "code",
   "execution_count": 264,
   "metadata": {},
   "outputs": [],
   "source": [
    "import numpy as np\n",
    "import matplotlib.pyplot as plt\n",
    "import scipy.stats as ss\n",
    "\n",
    "rng = np.random"
   ]
  },
  {
   "cell_type": "markdown",
   "metadata": {},
   "source": [
    "### Simulate data\n",
    "We are playing a game of Plinko and trying to model our payout over time. A coin is fed into the machine and falls down a series of pegs into one of many buckets, each having a payout between 0 and 10, centered on 5. Assume the chance of landing in a bucket is normally distributed."
   ]
  },
  {
   "cell_type": "code",
   "execution_count": 265,
   "metadata": {},
   "outputs": [],
   "source": [
    "N = 1000\n",
    "data = rng.normal(5.0, 1.0, size=N)"
   ]
  },
  {
   "cell_type": "markdown",
   "metadata": {},
   "source": [
    "### Implement the prior and likelihood distributions\n",
    "$$\n",
    "\\begin{align}\n",
    "    p(\\mu) &= N(\\mu | \\mu_0, \\sigma_0)\\\\\n",
    "    p(y | \\mu, \\sigma^2) &= N(y | \\mu, \\sigma^2)\n",
    "\\end{align}\n",
    "$$"
   ]
  },
  {
   "cell_type": "code",
   "execution_count": 266,
   "metadata": {},
   "outputs": [],
   "source": [
    "def calculate_prior(mu0, sigma0):\n",
    "    return rng.normal(mu0, sigma0, size=1000)\n",
    "\n",
    "def calculate_likelihood(x):\n",
    "    mu = np.mean(x)\n",
    "    sigma2 = np.std(x) ** 2\n",
    "    return rng.normal(mu, sigma2, size=1000)\n",
    "\n",
    "def calculate_posterior(x, mu0, sigma0):\n",
    "    sigma2 = np.std(x) ** 2\n",
    "    \n",
    "    simga_post = ((sigma0**2)*sigma2) / (sigma2 + (len(x)*(sigma0**2)))\n",
    "    mu_post = simga_post * (((mu0*sigma2) + sum(x * (sigma0**2))) / ((sigma0**2)*sigma2))\n",
    "    \n",
    "    return rng.normal(mu_post, simga_post + sigma2, size=1000)\n",
    "\n",
    "\n",
    "\n",
    "mu0 = 4.0\n",
    "sigma0 = 3.0\n",
    "prior = calculate_prior(mu0, sigma0)\n",
    "likelihood = calculate_likelihood(data)\n",
    "posterior = calculate_posterior(data, mu0, sigma0)"
   ]
  },
  {
   "cell_type": "markdown",
   "metadata": {},
   "source": [
    "### Deriving hyperparameters for posterior\n",
    "$$\n",
    "\\begin{align}\n",
    "    posterior &\\sim N(\\mu_{post}, \\sigma_{post}^2) \\\\\n",
    "    \\sigma_{post}^2 &= \\frac{\\sigma_0^2\\sigma^2}{\\sigma^2 + n\\sigma_0^2} \\\\\n",
    "    \\mu_{post} &= \\sigma_{post}^2 [ \\frac{\\mu_0\\sigma^2 + \\sum_{i=1}^n x_i\\sigma_0^2}{\\sigma_0^2\\sigma^2} ]\n",
    "\\end{align}\n",
    "$$"
   ]
  },
  {
   "cell_type": "code",
   "execution_count": 267,
   "metadata": {},
   "outputs": [
    {
     "data": {
      "image/png": "[encoded data removed]",
      "text/plain": [
       "<Figure size 500x500 with 1 Axes>"
      ]
     },
     "metadata": {},
     "output_type": "display_data"
    }
   ],
   "source": [
    "def visualize_distribution(prior, likelihood, posterior, ground_truth):\n",
    "    f, ax = plt.subplots(1,1,figsize=(5,5))\n",
    "    ax.hist(ground_truth, 100, density=True, alpha=0.75, label=\"Truth\")\n",
    "    ax.hist(prior, 100, density=True, alpha=0.75, label=\"Prior\")\n",
    "    ax.hist(likelihood, 100, density=True, alpha=0.75, label=\"Likelihood\")\n",
    "    ax.hist(posterior, 100, density=True, alpha=0.75, label=\"Posterior\")\n",
    "    ax.legend()\n",
    "\n",
    "visualize_distribution(prior, likelihood, posterior, data)"
   ]
  }
 ],
 "metadata": {
  "kernelspec": {
   "display_name": "new_env",
   "language": "python",
   "name": "python3"
  },
  "language_info": {
   "codemirror_mode": {
    "name": "ipython",
    "version": 3
   },
   "file_extension": ".py",
   "mimetype": "text/x-python",
   "name": "python",
   "nbconvert_exporter": "python",
   "pygments_lexer": "ipython3",
   "version": "3.11.7"
  }
 },
 "nbformat": 4,
 "nbformat_minor": 2
}
