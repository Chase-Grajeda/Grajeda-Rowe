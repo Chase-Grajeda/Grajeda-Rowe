{
 "cells": [
  {
   "cell_type": "markdown",
   "metadata": {},
   "source": [
    "# Q6) Murder Mystery"
   ]
  },
  {
   "cell_type": "code",
   "execution_count": 20,
   "metadata": {},
   "outputs": [],
   "source": [
    "import numpy as np\n",
    "import matplotlib.pyplot as plt"
   ]
  },
  {
   "cell_type": "markdown",
   "metadata": {},
   "source": [
    "Someone broke a window...\n",
    "\n",
    "Suspects: Father, Son\n",
    "\n",
    "Weapons: Baseball, Wrench, Dog Toy\n"
   ]
  },
  {
   "cell_type": "code",
   "execution_count": 21,
   "metadata": {},
   "outputs": [],
   "source": [
    "suspects = ('father', 'son')\n",
    "prior_probs = (0.7, 0.3)\n",
    "weapons = ('baseball', 'wrench', 'dogtoy')\n",
    "father_probs = (0.3, 0.6, 0.1)\n",
    "son_probs = (0.8, 0.1, 0.1)"
   ]
  },
  {
   "cell_type": "code",
   "execution_count": 22,
   "metadata": {},
   "outputs": [
    {
     "name": "stdout",
     "output_type": "stream",
     "text": [
      "Simulation results:\n",
      "father_baseball : 0.21035\n",
      "father_dogtoy : 0.06923\n",
      "father_wrench : 0.41941\n",
      "son_baseball : 0.24043\n",
      "son_dogtoy : 0.03034\n",
      "son_wrench : 0.03024\n",
      "\n",
      "Analysis results:\n",
      "father_baseball : 0.21\n",
      "father_wrench : 0.42\n",
      "father_dogtoy : 0.06999999999999999\n",
      "son_baseball : 0.24\n",
      "son_wrench : 0.03\n",
      "son_dogtoy : 0.03\n",
      "\n",
      "Error\n",
      "father_baseball error: 0.0016666666666667474\n",
      "father_dogtoy error: 0.0109999999999999\n",
      "father_wrench error: 0.0014047619047618557\n",
      "son_baseball error: 0.001791666666666724\n",
      "son_dogtoy error: 0.011333333333333334\n",
      "son_wrench error: 0.008000000000000021\n"
     ]
    }
   ],
   "source": [
    "# Simulates probability space\n",
    "def simulate(num_runs):\n",
    "    runs = []\n",
    "    for _ in range(num_runs):\n",
    "        suspect = np.random.choice(suspects, p=prior_probs)\n",
    "        if suspect == 'father': runs.append(suspect + \"_\" + np.random.choice(weapons, p=father_probs))\n",
    "        else: runs.append(suspect + \"_\" + np.random.choice(weapons, p=son_probs))\n",
    "    return runs\n",
    "\n",
    "\n",
    "# Run simulation\n",
    "N = 100000\n",
    "sims = simulate(N)\n",
    "scenarios, counts = np.unique(sims, return_counts=True)\n",
    "\n",
    "# Calculate simulated results\n",
    "sim_results = {s : c / N for s, c in zip(scenarios, counts)}\n",
    "\n",
    "# Calculate expected analysis\n",
    "analyzed_results = {\n",
    "    \"father_baseball\" : prior_probs[0] * father_probs[0],\n",
    "    \"father_wrench\" : prior_probs[0] * father_probs[1],\n",
    "    \"father_dogtoy\" : prior_probs[0] * father_probs[2],\n",
    "    \"son_baseball\" : prior_probs[1] * son_probs[0],\n",
    "    \"son_wrench\" : prior_probs[1] * son_probs[1],\n",
    "    \"son_dogtoy\" : prior_probs[1] * son_probs[2]\n",
    "}\n",
    "\n",
    "# Print results\n",
    "print(\"Simulation results:\")\n",
    "for s_res in sim_results.keys():\n",
    "    print(f\"{s_res} : {sim_results[s_res]}\")\n",
    "\n",
    "print(\"\\nAnalysis results:\")\n",
    "for a_res in analyzed_results.keys():\n",
    "    print(f\"{a_res} : {analyzed_results[a_res]}\")\n",
    "\n",
    "print(\"\\nError\")\n",
    "for s in sim_results.keys():\n",
    "    print(f\"{s} error: {abs(sim_results[s] - analyzed_results[s]) / analyzed_results[s]}\")\n",
    "    \n",
    "    "
   ]
  },
  {
   "cell_type": "markdown",
   "metadata": {},
   "source": [
    "Discussion  \n",
    "\n",
    "By increasing N, it is clear that the error will continue to decrease, approaching the expected analysis values. Around N = 100,000, the error satisfies 1e-2"
   ]
  }
 ],
 "metadata": {
  "kernelspec": {
   "display_name": "Python 3",
   "language": "python",
   "name": "python3"
  },
  "language_info": {
   "codemirror_mode": {
    "name": "ipython",
    "version": 3
   },
   "file_extension": ".py",
   "mimetype": "text/x-python",
   "name": "python",
   "nbconvert_exporter": "python",
   "pygments_lexer": "ipython3",
   "version": "3.9.13"
  }
 },
 "nbformat": 4,
 "nbformat_minor": 2
}
